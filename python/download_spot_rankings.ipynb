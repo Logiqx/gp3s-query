{
 "cells": [
  {
   "cell_type": "markdown",
   "id": "a97716b5",
   "metadata": {},
   "source": [
    "# Download Spot Rankings\n",
    "\n",
    "Download spot rankings from GP3S using the API.\n",
    "\n",
    "Copyright 2022 Michael George (AKA Logiqx).\n",
    "\n",
    "This file is part of GP3S Query and is distributed under the terms of the GNU General Public License.\n",
    "\n",
    "GP3S Query is free software: you can redistribute it and/or modify it under the terms of the GNU General Public License as published by the Free Software Foundation, either version 3 of the License, or (at your option) any later version.\n",
    "\n",
    "GP3S Query is distributed in the hope that it will be useful, but WITHOUT ANY WARRANTY; without even the implied warranty of MERCHANTABILITY or FITNESS FOR A PARTICULAR PURPOSE. See the GNU General Public License for more details.\n",
    "\n",
    "You should have received a copy of the GNU General Public License along with GP3S Query. If not, see https://www.gnu.org/licenses/."
   ]
  },
  {
   "cell_type": "markdown",
   "id": "833340d0",
   "metadata": {},
   "source": [
    "## API Subscription Key\n",
    "\n",
    "WARNING: Do not to check a real key into git"
   ]
  },
  {
   "cell_type": "code",
   "execution_count": 9,
   "id": "00eb47a3",
   "metadata": {},
   "outputs": [],
   "source": [
    "SUBSCRIPTION_KEY = 'xxxxxxxxxxxxxxxxxxxxxxxxxxxxxxxx'"
   ]
  },
  {
   "cell_type": "markdown",
   "id": "6e9c6501",
   "metadata": {},
   "source": [
    "## Spot IDs\n",
    "\n",
    "Obtained from gps-speedsurfing.com"
   ]
  },
  {
   "cell_type": "code",
   "execution_count": 11,
   "id": "febbaaac",
   "metadata": {},
   "outputs": [],
   "source": [
    "spotIds = {\n",
    "    133: 'West Kirby',\n",
    "    681: 'Portland Harbour',\n",
    "    769: 'Southend-on-Sea'\n",
    "}"
   ]
  },
  {
   "cell_type": "markdown",
   "id": "bd239383",
   "metadata": {},
   "source": [
    "## Speed Types\n",
    "\n",
    "Obtained by viewing the HTML from gps-speedsurfing.com"
   ]
  },
  {
   "cell_type": "code",
   "execution_count": 12,
   "id": "49498767",
   "metadata": {},
   "outputs": [],
   "source": [
    "speedTypes = {\n",
    "    \"speed_avg\": \"Average speed\",\n",
    "    \"speed_100\": \"100 m run\",\n",
    "    \"speed_250\": \"250 m run\",\n",
    "    \"speed_500\": \"500 m run\",\n",
    "    \"speed_halfhour\": \"1/2 hour speed\",\n",
    "    \"speed_hour\": \"1 hour avg speed\",\n",
    "    \"speed_24hour\": \"24 hour\",\n",
    "    \"speed_mile\": \"Nautical mile\",\n",
    "    \"speed_10sec\": \"Max. 10 sec. run\",\n",
    "    \"speed_2sec\": \"Max. 2 sec.\",\n",
    "    \"speed_formula\": \"Formula\",\n",
    "    \"speed_alpha_racing\": \"Alpha racing\",\n",
    "    \"speed_foil\": \"Foil\"\n",
    "}"
   ]
  },
  {
   "cell_type": "markdown",
   "id": "2355e926",
   "metadata": {},
   "source": [
    "## Import Common Modules"
   ]
  },
  {
   "cell_type": "code",
   "execution_count": 13,
   "id": "9c186abd",
   "metadata": {},
   "outputs": [],
   "source": [
    "import os\n",
    "import sys\n",
    "\n",
    "import http.client\n",
    "import urllib.request\n",
    "import urllib.parse\n",
    "\n",
    "import json"
   ]
  },
  {
   "cell_type": "markdown",
   "id": "b8f4c760",
   "metadata": {},
   "source": [
    "## Retrieve Rankings from API"
   ]
  },
  {
   "cell_type": "code",
   "execution_count": 14,
   "id": "3dd03c02",
   "metadata": {},
   "outputs": [],
   "source": [
    "def getRankings(service, mainId, mainName, speedType):\n",
    "    \"\"\"Get rankings from the GP3S API\"\"\"\n",
    "\n",
    "    headers = {\n",
    "        'Ocp-Apim-Subscription-Key': SUBSCRIPTION_KEY\n",
    "    }\n",
    "\n",
    "    try:\n",
    "        conn = http.client.HTTPSConnection('apimgp3s.azure-api.net')\n",
    "        url = \"/gp3s/{}/{}/{}\".format(service, mainId, speedType)\n",
    "        print('Getting {} for {} - {}'.format(service, mainName, speedTypes[speedType]))\n",
    "        conn.request(\"GET\", url, headers=headers)\n",
    "        response = conn.getresponse()\n",
    "        data = response.read()\n",
    "        conn.close()\n",
    "    except Exception as e:\n",
    "        print(\"[Errno {0}] {1}\".format(e.errno, e.strerror))\n",
    "\n",
    "    rankings = json.loads(data)\n",
    "    prettyRankings = json.dumps(rankings, indent=2)\n",
    "\n",
    "    filename = os.path.join(projdir, 'cache', service, str(mainId), str(speedType) + '.json')\n",
    "    dirname = os.path.dirname(filename)\n",
    "    if not os.path.exists(dirname):\n",
    "        os.makedirs(dirname)\n",
    "\n",
    "    with open(filename, \"w\") as f:\n",
    "        f.write(prettyRankings)"
   ]
  },
  {
   "cell_type": "markdown",
   "id": "86405665",
   "metadata": {},
   "source": [
    "## Download Rankings"
   ]
  },
  {
   "cell_type": "code",
   "execution_count": 16,
   "id": "71ea816a",
   "metadata": {},
   "outputs": [
    {
     "name": "stdout",
     "output_type": "stream",
     "text": [
      "Getting SpotRankings for West Kirby - Formula\n"
     ]
    }
   ],
   "source": [
    "if __name__ == '__main__':\n",
    "    projdir = os.path.realpath(os.path.join(sys.path[0], '..'))\n",
    "\n",
    "    for spotId, spotName in spotIds.items():\n",
    "        for speedType in speedTypes:\n",
    "            getRankings('SpotRankings', spotId, spotName, speedType)"
   ]
  },
  {
   "cell_type": "code",
   "execution_count": null,
   "id": "f11c3f35",
   "metadata": {},
   "outputs": [],
   "source": []
  }
 ],
 "metadata": {
  "kernelspec": {
   "display_name": "Python 3 (ipykernel)",
   "language": "python",
   "name": "python3"
  },
  "language_info": {
   "codemirror_mode": {
    "name": "ipython",
    "version": 3
   },
   "file_extension": ".py",
   "mimetype": "text/x-python",
   "name": "python",
   "nbconvert_exporter": "python",
   "pygments_lexer": "ipython3",
   "version": "3.9.7"
  }
 },
 "nbformat": 4,
 "nbformat_minor": 5
}
