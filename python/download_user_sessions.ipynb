{
 "cells": [
  {
   "cell_type": "markdown",
   "id": "a97716b5",
   "metadata": {},
   "source": [
    "# Download User Sessions\n",
    "\n",
    "Download user sessions from GP3S using the API.\n",
    "\n",
    "Copyright 2022 Michael George (AKA Logiqx).\n",
    "\n",
    "This file is part of GP3S Query and is distributed under the terms of the GNU General Public License.\n",
    "\n",
    "GP3S Query is free software: you can redistribute it and/or modify it under the terms of the GNU General Public License as published by the Free Software Foundation, either version 3 of the License, or (at your option) any later version.\n",
    "\n",
    "GP3S Query is distributed in the hope that it will be useful, but WITHOUT ANY WARRANTY; without even the implied warranty of MERCHANTABILITY or FITNESS FOR A PARTICULAR PURPOSE. See the GNU General Public License for more details.\n",
    "\n",
    "You should have received a copy of the GNU General Public License along with GP3S Query. If not, see https://www.gnu.org/licenses/."
   ]
  },
  {
   "cell_type": "markdown",
   "id": "833340d0",
   "metadata": {},
   "source": [
    "## API URLs\n",
    "\n",
    "Azure API hosts the GP3S API calls and returns JSON data"
   ]
  },
  {
   "cell_type": "code",
   "execution_count": 1,
   "id": "00eb47a3",
   "metadata": {},
   "outputs": [],
   "source": [
    "API_URL = 'apimgp3s.azure-api.net'\n",
    "API_NAME = 'gp3s'"
   ]
  },
  {
   "cell_type": "markdown",
   "id": "2355e926",
   "metadata": {},
   "source": [
    "## Import Common Modules"
   ]
  },
  {
   "cell_type": "code",
   "execution_count": 2,
   "id": "9c186abd",
   "metadata": {},
   "outputs": [],
   "source": [
    "import os\n",
    "import sys\n",
    "\n",
    "import http.client\n",
    "import urllib.parse\n",
    "\n",
    "import json"
   ]
  },
  {
   "cell_type": "markdown",
   "id": "aa08c2f3",
   "metadata": {},
   "source": [
    "## User IDs\n",
    "\n",
    "TODO - use spot / event rankings to determine list of users to download"
   ]
  },
  {
   "cell_type": "code",
   "execution_count": 3,
   "id": "ce12006e",
   "metadata": {},
   "outputs": [],
   "source": [
    "userIds = {\n",
    "    5246: 'Matthew Spooner',\n",
    "    2640: 'Michael George'\n",
    "}"
   ]
  },
  {
   "cell_type": "markdown",
   "id": "b8f4c760",
   "metadata": {},
   "source": [
    "## Retrieve User Sessions from the API"
   ]
  },
  {
   "cell_type": "code",
   "execution_count": 4,
   "id": "3dd03c02",
   "metadata": {},
   "outputs": [],
   "source": [
    "def getApiData(url, filename):\n",
    "    \"\"\"Get data from the GP3S API\"\"\"\n",
    "\n",
    "    keyPath = os.path.join(projdir, 'keys', 'gp3s')\n",
    "    with open(keyPath) as f:\n",
    "        key = f.readline().strip()\n",
    "\n",
    "    headers = {\n",
    "        'Ocp-Apim-Subscription-Key': key\n",
    "    }\n",
    "\n",
    "    conn = http.client.HTTPSConnection(API_URL)\n",
    "    conn.request(\"GET\", url, headers=headers)\n",
    "    response = conn.getresponse()\n",
    "    rawData = response.read()\n",
    "    conn.close()\n",
    "\n",
    "    data = json.loads(rawData)\n",
    "    data = sorted(data, key=lambda x: (x['session_id'], x['session_id']))\n",
    "    output = json.dumps(data, indent=2)\n",
    "\n",
    "    dirname = os.path.dirname(filename)\n",
    "    if not os.path.exists(dirname):\n",
    "        os.makedirs(dirname)\n",
    "\n",
    "    with open(filename, \"w\") as f:\n",
    "        f.write(output)\n",
    "        \n",
    "    return data"
   ]
  },
  {
   "cell_type": "code",
   "execution_count": 5,
   "id": "e064e106",
   "metadata": {},
   "outputs": [],
   "source": [
    "def getUserSessions(userId, userName, year, service='UserSessions'):\n",
    "    \"\"\"Get user sessions from the GP3S API\"\"\"\n",
    "\n",
    "    print('Downloading {} for {} - {}'.format(service, userName, year))\n",
    "\n",
    "    params = urllib.parse.urlencode({\n",
    "        'user_id': userId,\n",
    "        'year': year,\n",
    "        'session_id': 0\n",
    "    })\n",
    "    \n",
    "    url = \"/{}/{}?{}\".format(API_NAME, service, params)\n",
    "    filename = os.path.join(projdir, 'cache', service, str(userId), str(year) + '.json')\n",
    "\n",
    "    sessions = getApiData(url, filename)\n",
    "        \n",
    "    return sessions"
   ]
  },
  {
   "cell_type": "markdown",
   "id": "86405665",
   "metadata": {},
   "source": [
    "## Download User Sessions"
   ]
  },
  {
   "cell_type": "code",
   "execution_count": 6,
   "id": "4ee5d8a5",
   "metadata": {},
   "outputs": [
    {
     "name": "stdout",
     "output_type": "stream",
     "text": [
      "Downloading UserSessions for Matthew Spooner - 2004\n",
      "Downloading UserSessions for Matthew Spooner - 2005\n",
      "Downloading UserSessions for Matthew Spooner - 2006\n",
      "Downloading UserSessions for Matthew Spooner - 2007\n",
      "Downloading UserSessions for Matthew Spooner - 2008\n",
      "Downloading UserSessions for Matthew Spooner - 2009\n",
      "Downloading UserSessions for Matthew Spooner - 2010\n",
      "Downloading UserSessions for Matthew Spooner - 2011\n",
      "Downloading UserSessions for Matthew Spooner - 2012\n",
      "Downloading UserSessions for Matthew Spooner - 2013\n",
      "Downloading UserSessions for Matthew Spooner - 2014\n",
      "Downloading UserSessions for Matthew Spooner - 2015\n",
      "Downloading UserSessions for Matthew Spooner - 2016\n",
      "Downloading UserSessions for Matthew Spooner - 2017\n",
      "Downloading UserSessions for Matthew Spooner - 2018\n",
      "Downloading UserSessions for Matthew Spooner - 2019\n",
      "Downloading UserSessions for Matthew Spooner - 2020\n",
      "Downloading UserSessions for Matthew Spooner - 2021\n",
      "Downloading UserSessions for Matthew Spooner - 2022\n",
      "\n",
      "Downloading UserSessions for Michael George - 2004\n",
      "Downloading UserSessions for Michael George - 2005\n",
      "Downloading UserSessions for Michael George - 2006\n",
      "Downloading UserSessions for Michael George - 2007\n",
      "Downloading UserSessions for Michael George - 2008\n",
      "Downloading UserSessions for Michael George - 2009\n",
      "Downloading UserSessions for Michael George - 2010\n",
      "Downloading UserSessions for Michael George - 2011\n",
      "Downloading UserSessions for Michael George - 2012\n",
      "Downloading UserSessions for Michael George - 2013\n",
      "Downloading UserSessions for Michael George - 2014\n",
      "Downloading UserSessions for Michael George - 2015\n",
      "Downloading UserSessions for Michael George - 2016\n",
      "Downloading UserSessions for Michael George - 2017\n",
      "Downloading UserSessions for Michael George - 2018\n",
      "Downloading UserSessions for Michael George - 2019\n",
      "Downloading UserSessions for Michael George - 2020\n",
      "Downloading UserSessions for Michael George - 2021\n",
      "Downloading UserSessions for Michael George - 2022\n",
      "\n",
      "All done!\n"
     ]
    }
   ],
   "source": [
    "if __name__ == '__main__':\n",
    "    projdir = os.path.realpath(os.path.join(sys.path[0], '..'))\n",
    "\n",
    "    for userId, userName in userIds.items():\n",
    "        for year in range(2004, 2023):\n",
    "            getUserSessions(userId, userName, year)\n",
    "\n",
    "        print()\n",
    "        \n",
    "    print('All done!')"
   ]
  }
 ],
 "metadata": {
  "kernelspec": {
   "display_name": "Python 3 (ipykernel)",
   "language": "python",
   "name": "python3"
  },
  "language_info": {
   "codemirror_mode": {
    "name": "ipython",
    "version": 3
   },
   "file_extension": ".py",
   "mimetype": "text/x-python",
   "name": "python",
   "nbconvert_exporter": "python",
   "pygments_lexer": "ipython3",
   "version": "3.9.7"
  }
 },
 "nbformat": 4,
 "nbformat_minor": 5
}
