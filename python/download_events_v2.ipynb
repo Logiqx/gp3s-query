{
 "cells": [
  {
   "cell_type": "markdown",
   "id": "a97716b5",
   "metadata": {},
   "source": [
    "# Download Events\n",
    "\n",
    "Download event sessions and event rankings from GP3S using a combination of web scraping and the API.\n",
    "\n",
    "Copyright 2022 Michael George (AKA Logiqx).\n",
    "\n",
    "This file is part of GP3S Query and is distributed under the terms of the GNU General Public License.\n",
    "\n",
    "GP3S Query is free software: you can redistribute it and/or modify it under the terms of the GNU General Public License as published by the Free Software Foundation, either version 3 of the License, or (at your option) any later version.\n",
    "\n",
    "GP3S Query is distributed in the hope that it will be useful, but WITHOUT ANY WARRANTY; without even the implied warranty of MERCHANTABILITY or FITNESS FOR A PARTICULAR PURPOSE. See the GNU General Public License for more details.\n",
    "\n",
    "You should have received a copy of the GNU General Public License along with GP3S Query. If not, see https://www.gnu.org/licenses/."
   ]
  },
  {
   "cell_type": "markdown",
   "id": "833340d0",
   "metadata": {},
   "source": [
    "## API URLs\n",
    "\n",
    "gps-speedsurfing.com is used for the current event list (web scraping of HTML)\n",
    "\n",
    "Azure API hosts the GP3S API calls and returns JSON data"
   ]
  },
  {
   "cell_type": "code",
   "execution_count": 1,
   "id": "00eb47a3",
   "metadata": {},
   "outputs": [],
   "source": [
    "EVENT_URL = 'https://www.gps-speedsurfing.com/default.aspx?mnu=events'\n",
    "\n",
    "API_URL = 'apimgp3s.azure-api.net'\n",
    "API_NAME = 'gps-speed'"
   ]
  },
  {
   "cell_type": "markdown",
   "id": "2355e926",
   "metadata": {},
   "source": [
    "## Import Common Modules"
   ]
  },
  {
   "cell_type": "code",
   "execution_count": 2,
   "id": "9c186abd",
   "metadata": {},
   "outputs": [],
   "source": [
    "import os\n",
    "import sys\n",
    "\n",
    "from datetime import datetime\n",
    "\n",
    "import http.client\n",
    "import urllib.request\n",
    "import urllib.parse\n",
    "\n",
    "import json\n",
    "\n",
    "from bs4 import BeautifulSoup"
   ]
  },
  {
   "cell_type": "markdown",
   "id": "45bb28fa",
   "metadata": {},
   "source": [
    "## Retrieve Event List"
   ]
  },
  {
   "cell_type": "code",
   "execution_count": 3,
   "id": "c6dbd7a3",
   "metadata": {},
   "outputs": [],
   "source": [
    "def getEvents():\n",
    "    \"\"\"Get dictionary of events via simple web scraping\"\"\"\n",
    "\n",
    "    events = {}\n",
    "\n",
    "    print('Downloading event list')\n",
    "\n",
    "    req = urllib.request.Request(EVENT_URL, headers={'User-Agent': 'Mozilla'})\n",
    "    response = urllib.request.urlopen(req, timeout = 15)\n",
    "    \n",
    "    soup = BeautifulSoup(response, \"lxml\")\n",
    "    table = soup.find(\"table\", {\"id\": \"eventsTable\"})\n",
    "    anchors = table.find_all(\"a\")\n",
    "\n",
    "    for anchor in anchors:\n",
    "        event = {}\n",
    "        event['eventname'] = anchor.text\n",
    "\n",
    "        parsedUrl = urllib.parse.urlparse(anchor.get(\"href\"))\n",
    "        eventId = urllib.parse.parse_qs(parsedUrl.query)[\"val\"][0]\n",
    "        \n",
    "        nameTd = anchor.parent\n",
    "        startDateTd = nameTd.findNext('td')\n",
    "        event['start_date'] = datetime.strptime(startDateTd.text, '%d-%m-%Y').strftime('%Y-%m-%dT00:00:00')\n",
    "        endDateTd = startDateTd.findNext('td')\n",
    "        event['end_date'] = datetime.strptime(endDateTd.text, '%d-%m-%Y').strftime('%Y-%m-%dT00:00:00')       \n",
    "\n",
    "        events[eventId] = event\n",
    "\n",
    "    return events"
   ]
  },
  {
   "cell_type": "markdown",
   "id": "b8f4c760",
   "metadata": {},
   "source": [
    "## Retrieve Events from API"
   ]
  },
  {
   "cell_type": "code",
   "execution_count": 4,
   "id": "99c6b758",
   "metadata": {},
   "outputs": [],
   "source": [
    "def getApiData(url, filename, sortKey=None):\n",
    "    \"\"\"Get data from the GP3S API\"\"\"\n",
    "\n",
    "    keyPath = os.path.join(projdir, 'keys', 'gp3s')\n",
    "    with open(keyPath) as f:\n",
    "        key = f.readline().strip()\n",
    "\n",
    "    headers = {\n",
    "        'Ocp-Apim-Subscription-Key': key\n",
    "    }\n",
    "\n",
    "    conn = http.client.HTTPSConnection(API_URL)\n",
    "    conn.request(\"GET\", url, headers=headers)\n",
    "    response = conn.getresponse()\n",
    "    rawData = response.read()\n",
    "    conn.close()\n",
    "\n",
    "    if rawData:\n",
    "        data = json.loads(rawData)\n",
    "    else:\n",
    "        data = []\n",
    "    if sortKey:\n",
    "        data = sorted(data, key=lambda x: (x[sortKey], x[sortKey]))\n",
    "    output = json.dumps(data, indent=2)\n",
    "\n",
    "    dirname = os.path.dirname(filename)\n",
    "    if not os.path.exists(dirname):\n",
    "        os.makedirs(dirname)\n",
    "\n",
    "    with open(filename, \"w\") as f:\n",
    "        f.write(output)\n",
    "        \n",
    "    return data"
   ]
  },
  {
   "cell_type": "code",
   "execution_count": 5,
   "id": "ad318340",
   "metadata": {},
   "outputs": [],
   "source": [
    "def getEventSessions(eventId, eventName, service='eventsessions'):\n",
    "    \"\"\"Get event sessions from the GP3S API\"\"\"\n",
    "\n",
    "    print('Downloading {} for {}'.format(service, eventName))\n",
    "\n",
    "    url = \"/{}/{}/eventid/{}\".format(API_NAME, service, eventId)\n",
    "    filename = os.path.join(projdir, 'cache', service, str(eventId) + '.json')\n",
    "\n",
    "    sessions = getApiData(url, filename, sortKey='session_id')\n",
    "        \n",
    "    return sessions"
   ]
  },
  {
   "cell_type": "code",
   "execution_count": 6,
   "id": "5217a3bb",
   "metadata": {},
   "outputs": [],
   "source": [
    "def getEventRankings(eventId, eventName, speedType, service='eventranking'):\n",
    "    \"\"\"Get event sessions from the GP3S API\"\"\"\n",
    "\n",
    "    print('Downloading {} for {} - {}'.format(service, eventName, speedType))\n",
    "\n",
    "    url = \"/{}/{}/eventid/{}/speed_type/{}\".format(API_NAME, service, eventId, speedType)\n",
    "    filename = os.path.join(projdir, 'cache', service, str(eventId), str(speedType) + '.json')\n",
    "\n",
    "    rankings = getApiData(url, filename)\n",
    "        \n",
    "    return rankings"
   ]
  },
  {
   "cell_type": "markdown",
   "id": "86405665",
   "metadata": {},
   "source": [
    "## Download Events"
   ]
  },
  {
   "cell_type": "code",
   "execution_count": 7,
   "id": "71ea816a",
   "metadata": {},
   "outputs": [
    {
     "name": "stdout",
     "output_type": "stream",
     "text": [
      "Downloading event list\n",
      "\n",
      "Downloading eventsessions for 2022 Dunkerbeck Speed Challenge “The Summer Edition”\n",
      "Downloading eventranking for 2022 Dunkerbeck Speed Challenge “The Summer Edition” - speed_avg\n",
      "/gps-speed/eventranking/eventid/748/speedtype/speed_avg\n",
      "Downloading eventranking for 2022 Dunkerbeck Speed Challenge “The Summer Edition” - speed_2sec\n",
      "/gps-speed/eventranking/eventid/748/speedtype/speed_2sec\n",
      "Downloading eventranking for 2022 Dunkerbeck Speed Challenge “The Summer Edition” - speed_10sec\n",
      "/gps-speed/eventranking/eventid/748/speedtype/speed_10sec\n",
      "Downloading eventranking for 2022 Dunkerbeck Speed Challenge “The Summer Edition” - speed_100\n",
      "/gps-speed/eventranking/eventid/748/speedtype/speed_100\n",
      "Downloading eventranking for 2022 Dunkerbeck Speed Challenge “The Summer Edition” - speed_250\n",
      "/gps-speed/eventranking/eventid/748/speedtype/speed_250\n",
      "Downloading eventranking for 2022 Dunkerbeck Speed Challenge “The Summer Edition” - speed_500\n",
      "/gps-speed/eventranking/eventid/748/speedtype/speed_500\n",
      "Downloading eventranking for 2022 Dunkerbeck Speed Challenge “The Summer Edition” - speed_mile\n",
      "/gps-speed/eventranking/eventid/748/speedtype/speed_mile\n",
      "Downloading eventranking for 2022 Dunkerbeck Speed Challenge “The Summer Edition” - speed_hour\n",
      "/gps-speed/eventranking/eventid/748/speedtype/speed_hour\n",
      "Downloading eventranking for 2022 Dunkerbeck Speed Challenge “The Summer Edition” - speed_halfhour\n",
      "/gps-speed/eventranking/eventid/748/speedtype/speed_halfhour\n",
      "Downloading eventranking for 2022 Dunkerbeck Speed Challenge “The Summer Edition” - speed_24hour\n",
      "/gps-speed/eventranking/eventid/748/speedtype/speed_24hour\n",
      "Downloading eventranking for 2022 Dunkerbeck Speed Challenge “The Summer Edition” - speed_alpha_racing\n",
      "/gps-speed/eventranking/eventid/748/speedtype/speed_alpha_racing\n",
      "\n",
      "Downloading eventsessions for 2022 Desafio Brasileiro de Windsurf Speed\n",
      "\n",
      "Downloading eventsessions for 2022 Funsport Makkum GPS Speed Challenge\n"
     ]
    },
    {
     "ename": "KeyboardInterrupt",
     "evalue": "",
     "output_type": "error",
     "traceback": [
      "\u001b[0;31m---------------------------------------------------------------------------\u001b[0m",
      "\u001b[0;31mKeyboardInterrupt\u001b[0m                         Traceback (most recent call last)",
      "\u001b[0;32m/tmp/ipykernel_252/1590966526.py\u001b[0m in \u001b[0;36m<module>\u001b[0;34m\u001b[0m\n\u001b[1;32m     17\u001b[0m     \u001b[0;32mfor\u001b[0m \u001b[0meventId\u001b[0m\u001b[0;34m,\u001b[0m \u001b[0mevent\u001b[0m \u001b[0;32min\u001b[0m \u001b[0mevents\u001b[0m\u001b[0;34m.\u001b[0m\u001b[0mitems\u001b[0m\u001b[0;34m(\u001b[0m\u001b[0;34m)\u001b[0m\u001b[0;34m:\u001b[0m\u001b[0;34m\u001b[0m\u001b[0;34m\u001b[0m\u001b[0m\n\u001b[1;32m     18\u001b[0m         \u001b[0meventName\u001b[0m \u001b[0;34m=\u001b[0m \u001b[0mevent\u001b[0m\u001b[0;34m[\u001b[0m\u001b[0;34m'eventname'\u001b[0m\u001b[0;34m]\u001b[0m\u001b[0;34m\u001b[0m\u001b[0;34m\u001b[0m\u001b[0m\n\u001b[0;32m---> 19\u001b[0;31m         \u001b[0msessions\u001b[0m \u001b[0;34m=\u001b[0m \u001b[0mgetEventSessions\u001b[0m\u001b[0;34m(\u001b[0m\u001b[0meventId\u001b[0m\u001b[0;34m,\u001b[0m \u001b[0meventName\u001b[0m\u001b[0;34m)\u001b[0m\u001b[0;34m\u001b[0m\u001b[0;34m\u001b[0m\u001b[0m\n\u001b[0m\u001b[1;32m     20\u001b[0m \u001b[0;34m\u001b[0m\u001b[0m\n\u001b[1;32m     21\u001b[0m         \u001b[0mspeedTypes\u001b[0m \u001b[0;34m=\u001b[0m \u001b[0;34m[\u001b[0m\u001b[0;34m]\u001b[0m\u001b[0;34m\u001b[0m\u001b[0;34m\u001b[0m\u001b[0m\n",
      "\u001b[0;32m/tmp/ipykernel_252/4281078913.py\u001b[0m in \u001b[0;36mgetEventSessions\u001b[0;34m(eventId, eventName, service)\u001b[0m\n\u001b[1;32m      7\u001b[0m     \u001b[0mfilename\u001b[0m \u001b[0;34m=\u001b[0m \u001b[0mos\u001b[0m\u001b[0;34m.\u001b[0m\u001b[0mpath\u001b[0m\u001b[0;34m.\u001b[0m\u001b[0mjoin\u001b[0m\u001b[0;34m(\u001b[0m\u001b[0mprojdir\u001b[0m\u001b[0;34m,\u001b[0m \u001b[0;34m'cache'\u001b[0m\u001b[0;34m,\u001b[0m \u001b[0mservice\u001b[0m\u001b[0;34m,\u001b[0m \u001b[0mstr\u001b[0m\u001b[0;34m(\u001b[0m\u001b[0meventId\u001b[0m\u001b[0;34m)\u001b[0m \u001b[0;34m+\u001b[0m \u001b[0;34m'.json'\u001b[0m\u001b[0;34m)\u001b[0m\u001b[0;34m\u001b[0m\u001b[0;34m\u001b[0m\u001b[0m\n\u001b[1;32m      8\u001b[0m \u001b[0;34m\u001b[0m\u001b[0m\n\u001b[0;32m----> 9\u001b[0;31m     \u001b[0msessions\u001b[0m \u001b[0;34m=\u001b[0m \u001b[0mgetApiData\u001b[0m\u001b[0;34m(\u001b[0m\u001b[0murl\u001b[0m\u001b[0;34m,\u001b[0m \u001b[0mfilename\u001b[0m\u001b[0;34m,\u001b[0m \u001b[0msortKey\u001b[0m\u001b[0;34m=\u001b[0m\u001b[0;34m'session_id'\u001b[0m\u001b[0;34m)\u001b[0m\u001b[0;34m\u001b[0m\u001b[0;34m\u001b[0m\u001b[0m\n\u001b[0m\u001b[1;32m     10\u001b[0m \u001b[0;34m\u001b[0m\u001b[0m\n\u001b[1;32m     11\u001b[0m     \u001b[0;32mreturn\u001b[0m \u001b[0msessions\u001b[0m\u001b[0;34m\u001b[0m\u001b[0;34m\u001b[0m\u001b[0m\n",
      "\u001b[0;32m/tmp/ipykernel_252/604919266.py\u001b[0m in \u001b[0;36mgetApiData\u001b[0;34m(url, filename, sortKey)\u001b[0m\n\u001b[1;32m     12\u001b[0m     \u001b[0mconn\u001b[0m \u001b[0;34m=\u001b[0m \u001b[0mhttp\u001b[0m\u001b[0;34m.\u001b[0m\u001b[0mclient\u001b[0m\u001b[0;34m.\u001b[0m\u001b[0mHTTPSConnection\u001b[0m\u001b[0;34m(\u001b[0m\u001b[0mAPI_URL\u001b[0m\u001b[0;34m)\u001b[0m\u001b[0;34m\u001b[0m\u001b[0;34m\u001b[0m\u001b[0m\n\u001b[1;32m     13\u001b[0m     \u001b[0mconn\u001b[0m\u001b[0;34m.\u001b[0m\u001b[0mrequest\u001b[0m\u001b[0;34m(\u001b[0m\u001b[0;34m\"GET\"\u001b[0m\u001b[0;34m,\u001b[0m \u001b[0murl\u001b[0m\u001b[0;34m,\u001b[0m \u001b[0mheaders\u001b[0m\u001b[0;34m=\u001b[0m\u001b[0mheaders\u001b[0m\u001b[0;34m)\u001b[0m\u001b[0;34m\u001b[0m\u001b[0;34m\u001b[0m\u001b[0m\n\u001b[0;32m---> 14\u001b[0;31m     \u001b[0mresponse\u001b[0m \u001b[0;34m=\u001b[0m \u001b[0mconn\u001b[0m\u001b[0;34m.\u001b[0m\u001b[0mgetresponse\u001b[0m\u001b[0;34m(\u001b[0m\u001b[0;34m)\u001b[0m\u001b[0;34m\u001b[0m\u001b[0;34m\u001b[0m\u001b[0m\n\u001b[0m\u001b[1;32m     15\u001b[0m     \u001b[0mrawData\u001b[0m \u001b[0;34m=\u001b[0m \u001b[0mresponse\u001b[0m\u001b[0;34m.\u001b[0m\u001b[0mread\u001b[0m\u001b[0;34m(\u001b[0m\u001b[0;34m)\u001b[0m\u001b[0;34m\u001b[0m\u001b[0;34m\u001b[0m\u001b[0m\n\u001b[1;32m     16\u001b[0m     \u001b[0mconn\u001b[0m\u001b[0;34m.\u001b[0m\u001b[0mclose\u001b[0m\u001b[0;34m(\u001b[0m\u001b[0;34m)\u001b[0m\u001b[0;34m\u001b[0m\u001b[0;34m\u001b[0m\u001b[0m\n",
      "\u001b[0;32m/opt/conda/lib/python3.9/http/client.py\u001b[0m in \u001b[0;36mgetresponse\u001b[0;34m(self)\u001b[0m\n\u001b[1;32m   1369\u001b[0m         \u001b[0;32mtry\u001b[0m\u001b[0;34m:\u001b[0m\u001b[0;34m\u001b[0m\u001b[0;34m\u001b[0m\u001b[0m\n\u001b[1;32m   1370\u001b[0m             \u001b[0;32mtry\u001b[0m\u001b[0;34m:\u001b[0m\u001b[0;34m\u001b[0m\u001b[0;34m\u001b[0m\u001b[0m\n\u001b[0;32m-> 1371\u001b[0;31m                 \u001b[0mresponse\u001b[0m\u001b[0;34m.\u001b[0m\u001b[0mbegin\u001b[0m\u001b[0;34m(\u001b[0m\u001b[0;34m)\u001b[0m\u001b[0;34m\u001b[0m\u001b[0;34m\u001b[0m\u001b[0m\n\u001b[0m\u001b[1;32m   1372\u001b[0m             \u001b[0;32mexcept\u001b[0m \u001b[0mConnectionError\u001b[0m\u001b[0;34m:\u001b[0m\u001b[0;34m\u001b[0m\u001b[0;34m\u001b[0m\u001b[0m\n\u001b[1;32m   1373\u001b[0m                 \u001b[0mself\u001b[0m\u001b[0;34m.\u001b[0m\u001b[0mclose\u001b[0m\u001b[0;34m(\u001b[0m\u001b[0;34m)\u001b[0m\u001b[0;34m\u001b[0m\u001b[0;34m\u001b[0m\u001b[0m\n",
      "\u001b[0;32m/opt/conda/lib/python3.9/http/client.py\u001b[0m in \u001b[0;36mbegin\u001b[0;34m(self)\u001b[0m\n\u001b[1;32m    317\u001b[0m         \u001b[0;31m# read until we get a non-100 response\u001b[0m\u001b[0;34m\u001b[0m\u001b[0;34m\u001b[0m\u001b[0m\n\u001b[1;32m    318\u001b[0m         \u001b[0;32mwhile\u001b[0m \u001b[0;32mTrue\u001b[0m\u001b[0;34m:\u001b[0m\u001b[0;34m\u001b[0m\u001b[0;34m\u001b[0m\u001b[0m\n\u001b[0;32m--> 319\u001b[0;31m             \u001b[0mversion\u001b[0m\u001b[0;34m,\u001b[0m \u001b[0mstatus\u001b[0m\u001b[0;34m,\u001b[0m \u001b[0mreason\u001b[0m \u001b[0;34m=\u001b[0m \u001b[0mself\u001b[0m\u001b[0;34m.\u001b[0m\u001b[0m_read_status\u001b[0m\u001b[0;34m(\u001b[0m\u001b[0;34m)\u001b[0m\u001b[0;34m\u001b[0m\u001b[0;34m\u001b[0m\u001b[0m\n\u001b[0m\u001b[1;32m    320\u001b[0m             \u001b[0;32mif\u001b[0m \u001b[0mstatus\u001b[0m \u001b[0;34m!=\u001b[0m \u001b[0mCONTINUE\u001b[0m\u001b[0;34m:\u001b[0m\u001b[0;34m\u001b[0m\u001b[0;34m\u001b[0m\u001b[0m\n\u001b[1;32m    321\u001b[0m                 \u001b[0;32mbreak\u001b[0m\u001b[0;34m\u001b[0m\u001b[0;34m\u001b[0m\u001b[0m\n",
      "\u001b[0;32m/opt/conda/lib/python3.9/http/client.py\u001b[0m in \u001b[0;36m_read_status\u001b[0;34m(self)\u001b[0m\n\u001b[1;32m    278\u001b[0m \u001b[0;34m\u001b[0m\u001b[0m\n\u001b[1;32m    279\u001b[0m     \u001b[0;32mdef\u001b[0m \u001b[0m_read_status\u001b[0m\u001b[0;34m(\u001b[0m\u001b[0mself\u001b[0m\u001b[0;34m)\u001b[0m\u001b[0;34m:\u001b[0m\u001b[0;34m\u001b[0m\u001b[0;34m\u001b[0m\u001b[0m\n\u001b[0;32m--> 280\u001b[0;31m         \u001b[0mline\u001b[0m \u001b[0;34m=\u001b[0m \u001b[0mstr\u001b[0m\u001b[0;34m(\u001b[0m\u001b[0mself\u001b[0m\u001b[0;34m.\u001b[0m\u001b[0mfp\u001b[0m\u001b[0;34m.\u001b[0m\u001b[0mreadline\u001b[0m\u001b[0;34m(\u001b[0m\u001b[0m_MAXLINE\u001b[0m \u001b[0;34m+\u001b[0m \u001b[0;36m1\u001b[0m\u001b[0;34m)\u001b[0m\u001b[0;34m,\u001b[0m \u001b[0;34m\"iso-8859-1\"\u001b[0m\u001b[0;34m)\u001b[0m\u001b[0;34m\u001b[0m\u001b[0;34m\u001b[0m\u001b[0m\n\u001b[0m\u001b[1;32m    281\u001b[0m         \u001b[0;32mif\u001b[0m \u001b[0mlen\u001b[0m\u001b[0;34m(\u001b[0m\u001b[0mline\u001b[0m\u001b[0;34m)\u001b[0m \u001b[0;34m>\u001b[0m \u001b[0m_MAXLINE\u001b[0m\u001b[0;34m:\u001b[0m\u001b[0;34m\u001b[0m\u001b[0;34m\u001b[0m\u001b[0m\n\u001b[1;32m    282\u001b[0m             \u001b[0;32mraise\u001b[0m \u001b[0mLineTooLong\u001b[0m\u001b[0;34m(\u001b[0m\u001b[0;34m\"status line\"\u001b[0m\u001b[0;34m)\u001b[0m\u001b[0;34m\u001b[0m\u001b[0;34m\u001b[0m\u001b[0m\n",
      "\u001b[0;32m/opt/conda/lib/python3.9/socket.py\u001b[0m in \u001b[0;36mreadinto\u001b[0;34m(self, b)\u001b[0m\n\u001b[1;32m    702\u001b[0m         \u001b[0;32mwhile\u001b[0m \u001b[0;32mTrue\u001b[0m\u001b[0;34m:\u001b[0m\u001b[0;34m\u001b[0m\u001b[0;34m\u001b[0m\u001b[0m\n\u001b[1;32m    703\u001b[0m             \u001b[0;32mtry\u001b[0m\u001b[0;34m:\u001b[0m\u001b[0;34m\u001b[0m\u001b[0;34m\u001b[0m\u001b[0m\n\u001b[0;32m--> 704\u001b[0;31m                 \u001b[0;32mreturn\u001b[0m \u001b[0mself\u001b[0m\u001b[0;34m.\u001b[0m\u001b[0m_sock\u001b[0m\u001b[0;34m.\u001b[0m\u001b[0mrecv_into\u001b[0m\u001b[0;34m(\u001b[0m\u001b[0mb\u001b[0m\u001b[0;34m)\u001b[0m\u001b[0;34m\u001b[0m\u001b[0;34m\u001b[0m\u001b[0m\n\u001b[0m\u001b[1;32m    705\u001b[0m             \u001b[0;32mexcept\u001b[0m \u001b[0mtimeout\u001b[0m\u001b[0;34m:\u001b[0m\u001b[0;34m\u001b[0m\u001b[0;34m\u001b[0m\u001b[0m\n\u001b[1;32m    706\u001b[0m                 \u001b[0mself\u001b[0m\u001b[0;34m.\u001b[0m\u001b[0m_timeout_occurred\u001b[0m \u001b[0;34m=\u001b[0m \u001b[0;32mTrue\u001b[0m\u001b[0;34m\u001b[0m\u001b[0;34m\u001b[0m\u001b[0m\n",
      "\u001b[0;32m/opt/conda/lib/python3.9/ssl.py\u001b[0m in \u001b[0;36mrecv_into\u001b[0;34m(self, buffer, nbytes, flags)\u001b[0m\n\u001b[1;32m   1239\u001b[0m                   \u001b[0;34m\"non-zero flags not allowed in calls to recv_into() on %s\"\u001b[0m \u001b[0;34m%\u001b[0m\u001b[0;34m\u001b[0m\u001b[0;34m\u001b[0m\u001b[0m\n\u001b[1;32m   1240\u001b[0m                   self.__class__)\n\u001b[0;32m-> 1241\u001b[0;31m             \u001b[0;32mreturn\u001b[0m \u001b[0mself\u001b[0m\u001b[0;34m.\u001b[0m\u001b[0mread\u001b[0m\u001b[0;34m(\u001b[0m\u001b[0mnbytes\u001b[0m\u001b[0;34m,\u001b[0m \u001b[0mbuffer\u001b[0m\u001b[0;34m)\u001b[0m\u001b[0;34m\u001b[0m\u001b[0;34m\u001b[0m\u001b[0m\n\u001b[0m\u001b[1;32m   1242\u001b[0m         \u001b[0;32melse\u001b[0m\u001b[0;34m:\u001b[0m\u001b[0;34m\u001b[0m\u001b[0;34m\u001b[0m\u001b[0m\n\u001b[1;32m   1243\u001b[0m             \u001b[0;32mreturn\u001b[0m \u001b[0msuper\u001b[0m\u001b[0;34m(\u001b[0m\u001b[0;34m)\u001b[0m\u001b[0;34m.\u001b[0m\u001b[0mrecv_into\u001b[0m\u001b[0;34m(\u001b[0m\u001b[0mbuffer\u001b[0m\u001b[0;34m,\u001b[0m \u001b[0mnbytes\u001b[0m\u001b[0;34m,\u001b[0m \u001b[0mflags\u001b[0m\u001b[0;34m)\u001b[0m\u001b[0;34m\u001b[0m\u001b[0;34m\u001b[0m\u001b[0m\n",
      "\u001b[0;32m/opt/conda/lib/python3.9/ssl.py\u001b[0m in \u001b[0;36mread\u001b[0;34m(self, len, buffer)\u001b[0m\n\u001b[1;32m   1097\u001b[0m         \u001b[0;32mtry\u001b[0m\u001b[0;34m:\u001b[0m\u001b[0;34m\u001b[0m\u001b[0;34m\u001b[0m\u001b[0m\n\u001b[1;32m   1098\u001b[0m             \u001b[0;32mif\u001b[0m \u001b[0mbuffer\u001b[0m \u001b[0;32mis\u001b[0m \u001b[0;32mnot\u001b[0m \u001b[0;32mNone\u001b[0m\u001b[0;34m:\u001b[0m\u001b[0;34m\u001b[0m\u001b[0;34m\u001b[0m\u001b[0m\n\u001b[0;32m-> 1099\u001b[0;31m                 \u001b[0;32mreturn\u001b[0m \u001b[0mself\u001b[0m\u001b[0;34m.\u001b[0m\u001b[0m_sslobj\u001b[0m\u001b[0;34m.\u001b[0m\u001b[0mread\u001b[0m\u001b[0;34m(\u001b[0m\u001b[0mlen\u001b[0m\u001b[0;34m,\u001b[0m \u001b[0mbuffer\u001b[0m\u001b[0;34m)\u001b[0m\u001b[0;34m\u001b[0m\u001b[0;34m\u001b[0m\u001b[0m\n\u001b[0m\u001b[1;32m   1100\u001b[0m             \u001b[0;32melse\u001b[0m\u001b[0;34m:\u001b[0m\u001b[0;34m\u001b[0m\u001b[0;34m\u001b[0m\u001b[0m\n\u001b[1;32m   1101\u001b[0m                 \u001b[0;32mreturn\u001b[0m \u001b[0mself\u001b[0m\u001b[0;34m.\u001b[0m\u001b[0m_sslobj\u001b[0m\u001b[0;34m.\u001b[0m\u001b[0mread\u001b[0m\u001b[0;34m(\u001b[0m\u001b[0mlen\u001b[0m\u001b[0;34m)\u001b[0m\u001b[0;34m\u001b[0m\u001b[0;34m\u001b[0m\u001b[0m\n",
      "\u001b[0;31mKeyboardInterrupt\u001b[0m: "
     ]
    }
   ],
   "source": [
    "if __name__ == '__main__':\n",
    "    projdir = os.path.realpath(os.path.join(sys.path[0], '..'))\n",
    "\n",
    "    events = getEvents()\n",
    "    output = json.dumps(events, indent=2)\n",
    "\n",
    "    filename = os.path.join(projdir, 'cache', 'events.json')\n",
    "    dirname = os.path.dirname(filename)\n",
    "    if not os.path.exists(dirname):\n",
    "        os.makedirs(dirname)\n",
    "\n",
    "    with open(filename, \"w\") as f:\n",
    "        f.write(output)\n",
    "\n",
    "    print()\n",
    "    \n",
    "    for eventId, event in events.items():\n",
    "        eventName = event['eventname']\n",
    "        sessions = getEventSessions(eventId, eventName)\n",
    "\n",
    "        speedTypes = []\n",
    "\n",
    "        for session in sessions:\n",
    "            for fieldName in session:\n",
    "                if fieldName.startswith('speed_'):\n",
    "                    if fieldName not in speedTypes:\n",
    "                        speedTypes.append(fieldName)\n",
    "\n",
    "        for speedType in speedTypes:\n",
    "            getEventRankings(eventId, eventName, speedType)\n",
    "            \n",
    "        print()\n",
    "        \n",
    "    print('All done!')"
   ]
  },
  {
   "cell_type": "code",
   "execution_count": null,
   "id": "f11c3f35",
   "metadata": {},
   "outputs": [],
   "source": []
  }
 ],
 "metadata": {
  "kernelspec": {
   "display_name": "Python 3 (ipykernel)",
   "language": "python",
   "name": "python3"
  },
  "language_info": {
   "codemirror_mode": {
    "name": "ipython",
    "version": 3
   },
   "file_extension": ".py",
   "mimetype": "text/x-python",
   "name": "python",
   "nbconvert_exporter": "python",
   "pygments_lexer": "ipython3",
   "version": "3.9.7"
  }
 },
 "nbformat": 4,
 "nbformat_minor": 5
}
