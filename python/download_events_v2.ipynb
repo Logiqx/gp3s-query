{
 "cells": [
  {
   "cell_type": "markdown",
   "id": "a97716b5",
   "metadata": {},
   "source": [
    "# Download Events\n",
    "\n",
    "Download event sessions and event rankings from GP3S using a combination of web scraping and the API.\n",
    "\n",
    "Copyright 2022 Michael George (AKA Logiqx).\n",
    "\n",
    "This file is part of GP3S Query and is distributed under the terms of the GNU General Public License.\n",
    "\n",
    "GP3S Query is free software: you can redistribute it and/or modify it under the terms of the GNU General Public License as published by the Free Software Foundation, either version 3 of the License, or (at your option) any later version.\n",
    "\n",
    "GP3S Query is distributed in the hope that it will be useful, but WITHOUT ANY WARRANTY; without even the implied warranty of MERCHANTABILITY or FITNESS FOR A PARTICULAR PURPOSE. See the GNU General Public License for more details.\n",
    "\n",
    "You should have received a copy of the GNU General Public License along with GP3S Query. If not, see https://www.gnu.org/licenses/."
   ]
  },
  {
   "cell_type": "markdown",
   "id": "833340d0",
   "metadata": {},
   "source": [
    "## API URLs\n",
    "\n",
    "gps-speedsurfing.com is used for the current event list (web scraping of HTML)\n",
    "\n",
    "Azure API hosts the GP3S API calls and returns JSON data"
   ]
  },
  {
   "cell_type": "code",
   "execution_count": 1,
   "id": "00eb47a3",
   "metadata": {},
   "outputs": [],
   "source": [
    "SITES = {\n",
    "    'gps-speed': 'https://www.gps-speedsurfing.com/default.aspx?mnu=events',\n",
    "    'gps-foil': 'https://www.gps-foilsurfing.com/default.aspx?mnu=events',\n",
    "    'gps-wing': 'https://www.gps-wingfoiling.com/default.aspx?mnu=events',\n",
    "    'gps-kite': 'https://www.gps-kitesurfing.com/default.aspx?mnu=events',\n",
    "    'gps-ice': 'https://www.gps-icesailing.com/default.aspx?mnu=events'\n",
    "}\n",
    "\n",
    "SPEED_TYPES = [\n",
    "    'speed_100',\n",
    "    'speed_10sec',\n",
    "    'speed_24hour',\n",
    "    'speed_250',\n",
    "    'speed_2sec',\n",
    "    'speed_500',\n",
    "    'speed_alpha_racing',\n",
    "    'speed_avg',\n",
    "    'speed_halfhour',\n",
    "    'speed_hour',\n",
    "    'speed_mile'\n",
    "]\n",
    "\n",
    "API_URL = 'apimgp3s.azure-api.net'"
   ]
  },
  {
   "cell_type": "markdown",
   "id": "2355e926",
   "metadata": {},
   "source": [
    "## Import Common Modules"
   ]
  },
  {
   "cell_type": "code",
   "execution_count": 2,
   "id": "9c186abd",
   "metadata": {},
   "outputs": [],
   "source": [
    "import os\n",
    "import sys\n",
    "\n",
    "from datetime import datetime\n",
    "\n",
    "import http.client\n",
    "import urllib.request\n",
    "import urllib.parse\n",
    "\n",
    "import json\n",
    "\n",
    "from bs4 import BeautifulSoup"
   ]
  },
  {
   "cell_type": "markdown",
   "id": "45bb28fa",
   "metadata": {},
   "source": [
    "## Retrieve Event List"
   ]
  },
  {
   "cell_type": "code",
   "execution_count": 3,
   "id": "c6dbd7a3",
   "metadata": {},
   "outputs": [],
   "source": [
    "def getEvents(eventsUrl):\n",
    "    \"\"\"Get dictionary of events via simple web scraping\"\"\"\n",
    "\n",
    "    events = {}\n",
    "\n",
    "    domain = urllib.parse.urlparse(eventsUrl).netloc\n",
    "    print('Downloading event list from {}'.format(domain))\n",
    "\n",
    "    req = urllib.request.Request(eventsUrl, headers={'User-Agent': 'Mozilla'})\n",
    "    response = urllib.request.urlopen(req, timeout = 15)\n",
    "    \n",
    "    soup = BeautifulSoup(response, \"lxml\")\n",
    "\n",
    "    # Do not assume that the website has running events\n",
    "    h3 = soup.find(\"h3\", {\"class\": \"panel-title\"})\n",
    "    if h3.text != \"Running Events\":\n",
    "        return events\n",
    "\n",
    "    table = soup.find(\"table\", {\"id\": \"eventsTable\"})\n",
    "    anchors = table.find_all(\"a\")\n",
    "\n",
    "    for anchor in anchors:\n",
    "        event = {}\n",
    "        event['eventname'] = anchor.text\n",
    "\n",
    "        parsedUrl = urllib.parse.urlparse(anchor.get(\"href\"))\n",
    "        eventId = urllib.parse.parse_qs(parsedUrl.query)[\"val\"][0]\n",
    "        \n",
    "        nameTd = anchor.parent\n",
    "        startDateTd = nameTd.findNext('td')\n",
    "        event['start_date'] = datetime.strptime(startDateTd.text.split(' ')[0], '%d-%m-%Y').strftime('%Y-%m-%dT00:00:00')\n",
    "        endDateTd = startDateTd.findNext('td')\n",
    "        event['end_date'] = datetime.strptime(endDateTd.text.split(' ')[0], '%d-%m-%Y').strftime('%Y-%m-%dT00:00:00')       \n",
    "        events[eventId] = event\n",
    "\n",
    "    return events"
   ]
  },
  {
   "cell_type": "markdown",
   "id": "b8f4c760",
   "metadata": {},
   "source": [
    "## Retrieve Events from API"
   ]
  },
  {
   "cell_type": "code",
   "execution_count": 4,
   "id": "99c6b758",
   "metadata": {},
   "outputs": [],
   "source": [
    "def getApiData(url, filename, sortKey=None):\n",
    "    \"\"\"Get data from the GP3S API\"\"\"\n",
    "\n",
    "    keyPath = os.path.join(projdir, 'keys', 'gp3s')\n",
    "    with open(keyPath) as f:\n",
    "        key = f.readline().strip()\n",
    "\n",
    "    headers = {\n",
    "        'Ocp-Apim-Subscription-Key': key\n",
    "    }\n",
    "\n",
    "    conn = http.client.HTTPSConnection(API_URL)\n",
    "    conn.request(\"GET\", url, headers=headers)\n",
    "    response = conn.getresponse()\n",
    "    rawData = response.read()\n",
    "    conn.close()\n",
    "\n",
    "    if rawData:\n",
    "        data = json.loads(rawData)\n",
    "    else:\n",
    "        data = []\n",
    "    if sortKey:\n",
    "        data = sorted(data, key=lambda x: (x[sortKey], x[sortKey]))\n",
    "    output = json.dumps(data, indent=2)\n",
    "\n",
    "    dirname = os.path.dirname(filename)\n",
    "    if not os.path.exists(dirname):\n",
    "        os.makedirs(dirname)\n",
    "\n",
    "    with open(filename, \"w\") as f:\n",
    "        f.write(output)\n",
    "        \n",
    "    return data"
   ]
  },
  {
   "cell_type": "code",
   "execution_count": 5,
   "id": "ad318340",
   "metadata": {},
   "outputs": [],
   "source": [
    "def getEventSessions(apiName, eventId, eventName, service='eventsessions'):\n",
    "    \"\"\"Get event sessions from the GP3S API\"\"\"\n",
    "\n",
    "    print('Downloading {} for {}'.format(service, eventName))\n",
    "\n",
    "    url = \"/{}/{}/eventid/{}\".format(apiName, service, eventId)\n",
    "    filename = os.path.join(projdir, 'cache', apiName, service, str(eventId) + '.json')\n",
    "\n",
    "    sessions = getApiData(url, filename, sortKey='session_id')\n",
    "        \n",
    "    return sessions"
   ]
  },
  {
   "cell_type": "code",
   "execution_count": 6,
   "id": "5217a3bb",
   "metadata": {},
   "outputs": [],
   "source": [
    "def getEventRankings(apiName, eventId, eventName, speedType, service='eventranking'):\n",
    "    \"\"\"Get event rankings from the GP3S API\"\"\"\n",
    "\n",
    "    print('Downloading {} for {} - {}'.format(service, eventName, speedType))\n",
    "\n",
    "    url = \"/{}/{}/eventid/{}/speed_type/{}\".format(apiName, service, eventId, speedType)\n",
    "    filename = os.path.join(projdir, 'cache', apiName, service, str(eventId), str(speedType) + '.json')\n",
    "\n",
    "    rankings = getApiData(url, filename)\n",
    "        \n",
    "    return rankings"
   ]
  },
  {
   "cell_type": "markdown",
   "id": "86405665",
   "metadata": {},
   "source": [
    "## Download Events"
   ]
  },
  {
   "cell_type": "code",
   "execution_count": 7,
   "id": "71ea816a",
   "metadata": {},
   "outputs": [
    {
     "name": "stdout",
     "output_type": "stream",
     "text": [
      "Downloading event list from www.gps-kitesurfing.com\n",
      "\n",
      "All done!\n"
     ]
    }
   ],
   "source": [
    "if __name__ == '__main__':\n",
    "    projdir = os.path.realpath(os.path.join(sys.path[0], '..'))\n",
    "\n",
    "    for apiName, eventsUrl in SITES.items():\n",
    "        events = getEvents(eventsUrl)\n",
    "        output = json.dumps(events, indent=2)\n",
    "\n",
    "        filename = os.path.join(projdir, 'cache', apiName, 'events.json')\n",
    "        dirname = os.path.dirname(filename)\n",
    "        if not os.path.exists(dirname):\n",
    "            os.makedirs(dirname)\n",
    "\n",
    "        with open(filename, \"w\") as f:\n",
    "            f.write(output)\n",
    "\n",
    "        print()\n",
    "\n",
    "        for eventId, event in events.items():\n",
    "            eventName = event['eventname']\n",
    "            sessions = getEventSessions(apiName, eventId, eventName)\n",
    "\n",
    "            for speedType in SPEED_TYPES:\n",
    "                getEventRankings(apiName, eventId, eventName, speedType)\n",
    "\n",
    "            print()\n",
    "        \n",
    "    print('All done!')"
   ]
  },
  {
   "cell_type": "code",
   "execution_count": null,
   "id": "f11c3f35",
   "metadata": {},
   "outputs": [],
   "source": []
  }
 ],
 "metadata": {
  "kernelspec": {
   "display_name": "Python 3 (ipykernel)",
   "language": "python",
   "name": "python3"
  },
  "language_info": {
   "codemirror_mode": {
    "name": "ipython",
    "version": 3
   },
   "file_extension": ".py",
   "mimetype": "text/x-python",
   "name": "python",
   "nbconvert_exporter": "python",
   "pygments_lexer": "ipython3",
   "version": "3.9.7"
  }
 },
 "nbformat": 4,
 "nbformat_minor": 5
}
